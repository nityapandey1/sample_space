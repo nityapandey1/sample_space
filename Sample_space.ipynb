{
 "cells": [
  {
   "cell_type": "code",
   "execution_count": 4,
   "metadata": {},
   "outputs": [
    {
     "name": "stdout",
     "output_type": "stream",
     "text": [
      "LET THE EXPERIMENT IS OF TOSSING FOUR COINS\n",
      "REQUIRED SAMPLE SPACE WILL BE  {('H', 'H', 'T', 'T'), ('H', 'H', 'H', 'T'), ('H', 'T', 'H', 'H'), ('T', 'T', 'H', 'H'), ('T', 'T', 'T', 'H'), ('T', 'H', 'H', 'H'), ('H', 'H', 'T', 'H'), ('H', 'T', 'H', 'T'), ('T', 'T', 'H', 'T'), ('T', 'T', 'T', 'T'), ('T', 'H', 'H', 'T'), ('T', 'H', 'T', 'T'), ('H', 'T', 'T', 'H'), ('H', 'H', 'H', 'H'), ('T', 'H', 'T', 'H'), ('H', 'T', 'T', 'T')} =16\n",
      "LET OUS ASSUME THAT THE OUTCOMES WILL BE TAILS APPERA FIRST\n",
      "THEN THE DESIRED OUTCOME BE A= {('T', 'T', 'T', 'H'), ('T', 'T', 'H', 'H'), ('T', 'H', 'H', 'H'), ('T', 'T', 'H', 'T'), ('T', 'T', 'T', 'T'), ('T', 'H', 'H', 'T'), ('T', 'H', 'T', 'T'), ('T', 'H', 'T', 'H')} =8\n",
      "THEREFORE THE P(A)= 0.5\n"
     ]
    }
   ],
   "source": [
    "from itertools import product\n",
    "print('LET THE EXPERIMENT IS OF TOSSING FOUR COINS')\n",
    "n=4\n",
    "sample_space=set(product(['H','T'],repeat=n))\n",
    "print('REQUIRED SAMPLE SPACE WILL BE ',sample_space,'=16')\n",
    "lenght=len(sample_space)\n",
    "print(\"LET OUS ASSUME THAT THE OUTCOMES WILL BE TAILS APPERA FIRST\")\n",
    "A={OT for OT in sample_space if OT[0]=='T'}\n",
    "print('THEN THE DESIRED OUTCOME BE A=',A,'=8')\n",
    "def prob(X):\n",
    "     return len(X)/len(sample_space)\n",
    "print('THEREFORE THE P(A)=',prob(A))"
   ]
  }
 ],
 "metadata": {
  "kernelspec": {
   "display_name": "Python 3",
   "language": "python",
   "name": "python3"
  },
  "language_info": {
   "codemirror_mode": {
    "name": "ipython",
    "version": 3
   },
   "file_extension": ".py",
   "mimetype": "text/x-python",
   "name": "python",
   "nbconvert_exporter": "python",
   "pygments_lexer": "ipython3",
   "version": "3.8.5"
  }
 },
 "nbformat": 4,
 "nbformat_minor": 4
}
